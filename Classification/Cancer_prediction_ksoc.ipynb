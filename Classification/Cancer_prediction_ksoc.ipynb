{
  "cells": [
    {
      "cell_type": "markdown",
      "id": "e9109d62-5d63-4920-a893-67bffd44ed23",
      "metadata": {
        "id": "e9109d62-5d63-4920-a893-67bffd44ed23"
      },
      "source": [
        "# Cancer prediction"
      ]
    },
    {
      "cell_type": "markdown",
      "id": "7008492c-9648-4a8d-81ec-33404ff684e3",
      "metadata": {
        "id": "7008492c-9648-4a8d-81ec-33404ff684e3"
      },
      "source": [
        "## Module imports"
      ]
    },
    {
      "cell_type": "code",
      "execution_count": 36,
      "id": "7b052a51-7fa2-441f-9c93-f4e0085b3fe4",
      "metadata": {
        "id": "7b052a51-7fa2-441f-9c93-f4e0085b3fe4"
      },
      "outputs": [],
      "source": [
        "import pandas as pd\n",
        "import numpy as np\n",
        "\n",
        "# Data visualization library\n",
        "import seaborn as sns\n",
        "import matplotlib.pyplot as plt\n",
        "\n",
        "# scikit-learn\n",
        "from sklearn.model_selection import train_test_split\n",
        "from sklearn.preprocessing import MinMaxScaler\n",
        "\n",
        "# Evaluation metrics\n",
        "from sklearn.metrics import accuracy_score,classification_report,f1_score,confusion_matrix"
      ]
    },
    {
      "cell_type": "markdown",
      "id": "01b6b267-0515-4135-9bdc-fb1d1e622961",
      "metadata": {
        "id": "01b6b267-0515-4135-9bdc-fb1d1e622961"
      },
      "source": [
        "## Importing dataset"
      ]
    },
    {
      "cell_type": "code",
      "execution_count": 2,
      "id": "f2u7NMUji1uo",
      "metadata": {
        "colab": {
          "base_uri": "https://localhost:8080/"
        },
        "id": "f2u7NMUji1uo",
        "outputId": "7e9ebc8f-0f5a-49bb-d7a2-087750bec17d"
      },
      "outputs": [
        {
          "output_type": "stream",
          "name": "stdout",
          "text": [
            "Archive:  /content/cancer_data.csv.zip\n",
            "  inflating: cancer_data.csv         \n",
            "  inflating: __MACOSX/._cancer_data.csv  \n"
          ]
        }
      ],
      "source": [
        "!unzip /content/cancer_data.csv.zip"
      ]
    },
    {
      "cell_type": "code",
      "execution_count": 3,
      "id": "2e34f4d0-20ad-4f8c-a5e8-36b88065479d",
      "metadata": {
        "id": "2e34f4d0-20ad-4f8c-a5e8-36b88065479d"
      },
      "outputs": [],
      "source": [
        "DATASET_PATH = '/content/cancer_data.csv'\n",
        "df = pd.read_csv(DATASET_PATH)"
      ]
    },
    {
      "cell_type": "markdown",
      "id": "70ce000f-dfbd-4de6-ae1b-04ffe9ed46c8",
      "metadata": {
        "id": "70ce000f-dfbd-4de6-ae1b-04ffe9ed46c8"
      },
      "source": [
        "## Exploratory Data Analysis"
      ]
    },
    {
      "cell_type": "code",
      "execution_count": 4,
      "id": "dd944250-abbf-4468-8f19-34e3999c4f82",
      "metadata": {
        "colab": {
          "base_uri": "https://localhost:8080/"
        },
        "id": "dd944250-abbf-4468-8f19-34e3999c4f82",
        "outputId": "8ad6d60d-f381-424c-858b-da838cdd0ce8"
      },
      "outputs": [
        {
          "output_type": "execute_result",
          "data": {
            "text/plain": [
              "(683, 11)"
            ]
          },
          "metadata": {},
          "execution_count": 4
        }
      ],
      "source": [
        "df.shape"
      ]
    },
    {
      "cell_type": "code",
      "execution_count": 5,
      "id": "9d3e7d53-848b-47a2-b2ef-da8cdcd38697",
      "metadata": {
        "colab": {
          "base_uri": "https://localhost:8080/"
        },
        "id": "9d3e7d53-848b-47a2-b2ef-da8cdcd38697",
        "outputId": "9fddeff3-592f-4b22-ae79-23bd8981fd9d"
      },
      "outputs": [
        {
          "output_type": "execute_result",
          "data": {
            "text/plain": [
              "Sample code number             0\n",
              "Clump Thickness                0\n",
              "Uniformity of Cell Size        0\n",
              "Uniformity of Cell Shape       0\n",
              "Marginal Adhesion              0\n",
              "Single Epithelial Cell Size    0\n",
              "Bare Nuclei                    0\n",
              "Bland Chromatin                0\n",
              "Normal Nucleoli                0\n",
              "Mitoses                        0\n",
              "Class                          0\n",
              "dtype: int64"
            ]
          },
          "metadata": {},
          "execution_count": 5
        }
      ],
      "source": [
        "## Checking for null values\n",
        "df.isnull().sum()"
      ]
    },
    {
      "cell_type": "code",
      "execution_count": 6,
      "id": "3488d2b3-f069-40d5-bc96-2d788a21419e",
      "metadata": {
        "colab": {
          "base_uri": "https://localhost:8080/"
        },
        "id": "3488d2b3-f069-40d5-bc96-2d788a21419e",
        "outputId": "cc4c83b6-2553-4c5f-d0d7-3e97bd3d97b0"
      },
      "outputs": [
        {
          "output_type": "execute_result",
          "data": {
            "text/plain": [
              "Index(['Sample code number', 'Clump Thickness', 'Uniformity of Cell Size',\n",
              "       'Uniformity of Cell Shape', 'Marginal Adhesion',\n",
              "       'Single Epithelial Cell Size', 'Bare Nuclei', 'Bland Chromatin',\n",
              "       'Normal Nucleoli', 'Mitoses', 'Class'],\n",
              "      dtype='object')"
            ]
          },
          "metadata": {},
          "execution_count": 6
        }
      ],
      "source": [
        "df.columns"
      ]
    },
    {
      "cell_type": "code",
      "execution_count": 7,
      "id": "46c74d9d-96f0-4ba7-b9b4-4989d4543610",
      "metadata": {
        "colab": {
          "base_uri": "https://localhost:8080/",
          "height": 301
        },
        "id": "46c74d9d-96f0-4ba7-b9b4-4989d4543610",
        "outputId": "88c5304d-6934-489e-b30a-fb9b4f10a3b8"
      },
      "outputs": [
        {
          "output_type": "execute_result",
          "data": {
            "text/plain": [
              "   Sample code number  Clump Thickness  Uniformity of Cell Size  \\\n",
              "0             1000025                5                        1   \n",
              "1             1002945                5                        4   \n",
              "2             1015425                3                        1   \n",
              "3             1016277                6                        8   \n",
              "4             1017023                4                        1   \n",
              "\n",
              "   Uniformity of Cell Shape  Marginal Adhesion  Single Epithelial Cell Size  \\\n",
              "0                         1                  1                            2   \n",
              "1                         4                  5                            7   \n",
              "2                         1                  1                            2   \n",
              "3                         8                  1                            3   \n",
              "4                         1                  3                            2   \n",
              "\n",
              "   Bare Nuclei  Bland Chromatin  Normal Nucleoli  Mitoses  Class  \n",
              "0            1                3                1        1      2  \n",
              "1           10                3                2        1      2  \n",
              "2            2                3                1        1      2  \n",
              "3            4                3                7        1      2  \n",
              "4            1                3                1        1      2  "
            ],
            "text/html": [
              "\n",
              "  <div id=\"df-1f729b2f-271f-42cb-9670-7173042f5096\">\n",
              "    <div class=\"colab-df-container\">\n",
              "      <div>\n",
              "<style scoped>\n",
              "    .dataframe tbody tr th:only-of-type {\n",
              "        vertical-align: middle;\n",
              "    }\n",
              "\n",
              "    .dataframe tbody tr th {\n",
              "        vertical-align: top;\n",
              "    }\n",
              "\n",
              "    .dataframe thead th {\n",
              "        text-align: right;\n",
              "    }\n",
              "</style>\n",
              "<table border=\"1\" class=\"dataframe\">\n",
              "  <thead>\n",
              "    <tr style=\"text-align: right;\">\n",
              "      <th></th>\n",
              "      <th>Sample code number</th>\n",
              "      <th>Clump Thickness</th>\n",
              "      <th>Uniformity of Cell Size</th>\n",
              "      <th>Uniformity of Cell Shape</th>\n",
              "      <th>Marginal Adhesion</th>\n",
              "      <th>Single Epithelial Cell Size</th>\n",
              "      <th>Bare Nuclei</th>\n",
              "      <th>Bland Chromatin</th>\n",
              "      <th>Normal Nucleoli</th>\n",
              "      <th>Mitoses</th>\n",
              "      <th>Class</th>\n",
              "    </tr>\n",
              "  </thead>\n",
              "  <tbody>\n",
              "    <tr>\n",
              "      <th>0</th>\n",
              "      <td>1000025</td>\n",
              "      <td>5</td>\n",
              "      <td>1</td>\n",
              "      <td>1</td>\n",
              "      <td>1</td>\n",
              "      <td>2</td>\n",
              "      <td>1</td>\n",
              "      <td>3</td>\n",
              "      <td>1</td>\n",
              "      <td>1</td>\n",
              "      <td>2</td>\n",
              "    </tr>\n",
              "    <tr>\n",
              "      <th>1</th>\n",
              "      <td>1002945</td>\n",
              "      <td>5</td>\n",
              "      <td>4</td>\n",
              "      <td>4</td>\n",
              "      <td>5</td>\n",
              "      <td>7</td>\n",
              "      <td>10</td>\n",
              "      <td>3</td>\n",
              "      <td>2</td>\n",
              "      <td>1</td>\n",
              "      <td>2</td>\n",
              "    </tr>\n",
              "    <tr>\n",
              "      <th>2</th>\n",
              "      <td>1015425</td>\n",
              "      <td>3</td>\n",
              "      <td>1</td>\n",
              "      <td>1</td>\n",
              "      <td>1</td>\n",
              "      <td>2</td>\n",
              "      <td>2</td>\n",
              "      <td>3</td>\n",
              "      <td>1</td>\n",
              "      <td>1</td>\n",
              "      <td>2</td>\n",
              "    </tr>\n",
              "    <tr>\n",
              "      <th>3</th>\n",
              "      <td>1016277</td>\n",
              "      <td>6</td>\n",
              "      <td>8</td>\n",
              "      <td>8</td>\n",
              "      <td>1</td>\n",
              "      <td>3</td>\n",
              "      <td>4</td>\n",
              "      <td>3</td>\n",
              "      <td>7</td>\n",
              "      <td>1</td>\n",
              "      <td>2</td>\n",
              "    </tr>\n",
              "    <tr>\n",
              "      <th>4</th>\n",
              "      <td>1017023</td>\n",
              "      <td>4</td>\n",
              "      <td>1</td>\n",
              "      <td>1</td>\n",
              "      <td>3</td>\n",
              "      <td>2</td>\n",
              "      <td>1</td>\n",
              "      <td>3</td>\n",
              "      <td>1</td>\n",
              "      <td>1</td>\n",
              "      <td>2</td>\n",
              "    </tr>\n",
              "  </tbody>\n",
              "</table>\n",
              "</div>\n",
              "      <button class=\"colab-df-convert\" onclick=\"convertToInteractive('df-1f729b2f-271f-42cb-9670-7173042f5096')\"\n",
              "              title=\"Convert this dataframe to an interactive table.\"\n",
              "              style=\"display:none;\">\n",
              "        \n",
              "  <svg xmlns=\"http://www.w3.org/2000/svg\" height=\"24px\"viewBox=\"0 0 24 24\"\n",
              "       width=\"24px\">\n",
              "    <path d=\"M0 0h24v24H0V0z\" fill=\"none\"/>\n",
              "    <path d=\"M18.56 5.44l.94 2.06.94-2.06 2.06-.94-2.06-.94-.94-2.06-.94 2.06-2.06.94zm-11 1L8.5 8.5l.94-2.06 2.06-.94-2.06-.94L8.5 2.5l-.94 2.06-2.06.94zm10 10l.94 2.06.94-2.06 2.06-.94-2.06-.94-.94-2.06-.94 2.06-2.06.94z\"/><path d=\"M17.41 7.96l-1.37-1.37c-.4-.4-.92-.59-1.43-.59-.52 0-1.04.2-1.43.59L10.3 9.45l-7.72 7.72c-.78.78-.78 2.05 0 2.83L4 21.41c.39.39.9.59 1.41.59.51 0 1.02-.2 1.41-.59l7.78-7.78 2.81-2.81c.8-.78.8-2.07 0-2.86zM5.41 20L4 18.59l7.72-7.72 1.47 1.35L5.41 20z\"/>\n",
              "  </svg>\n",
              "      </button>\n",
              "      \n",
              "  <style>\n",
              "    .colab-df-container {\n",
              "      display:flex;\n",
              "      flex-wrap:wrap;\n",
              "      gap: 12px;\n",
              "    }\n",
              "\n",
              "    .colab-df-convert {\n",
              "      background-color: #E8F0FE;\n",
              "      border: none;\n",
              "      border-radius: 50%;\n",
              "      cursor: pointer;\n",
              "      display: none;\n",
              "      fill: #1967D2;\n",
              "      height: 32px;\n",
              "      padding: 0 0 0 0;\n",
              "      width: 32px;\n",
              "    }\n",
              "\n",
              "    .colab-df-convert:hover {\n",
              "      background-color: #E2EBFA;\n",
              "      box-shadow: 0px 1px 2px rgba(60, 64, 67, 0.3), 0px 1px 3px 1px rgba(60, 64, 67, 0.15);\n",
              "      fill: #174EA6;\n",
              "    }\n",
              "\n",
              "    [theme=dark] .colab-df-convert {\n",
              "      background-color: #3B4455;\n",
              "      fill: #D2E3FC;\n",
              "    }\n",
              "\n",
              "    [theme=dark] .colab-df-convert:hover {\n",
              "      background-color: #434B5C;\n",
              "      box-shadow: 0px 1px 3px 1px rgba(0, 0, 0, 0.15);\n",
              "      filter: drop-shadow(0px 1px 2px rgba(0, 0, 0, 0.3));\n",
              "      fill: #FFFFFF;\n",
              "    }\n",
              "  </style>\n",
              "\n",
              "      <script>\n",
              "        const buttonEl =\n",
              "          document.querySelector('#df-1f729b2f-271f-42cb-9670-7173042f5096 button.colab-df-convert');\n",
              "        buttonEl.style.display =\n",
              "          google.colab.kernel.accessAllowed ? 'block' : 'none';\n",
              "\n",
              "        async function convertToInteractive(key) {\n",
              "          const element = document.querySelector('#df-1f729b2f-271f-42cb-9670-7173042f5096');\n",
              "          const dataTable =\n",
              "            await google.colab.kernel.invokeFunction('convertToInteractive',\n",
              "                                                     [key], {});\n",
              "          if (!dataTable) return;\n",
              "\n",
              "          const docLinkHtml = 'Like what you see? Visit the ' +\n",
              "            '<a target=\"_blank\" href=https://colab.research.google.com/notebooks/data_table.ipynb>data table notebook</a>'\n",
              "            + ' to learn more about interactive tables.';\n",
              "          element.innerHTML = '';\n",
              "          dataTable['output_type'] = 'display_data';\n",
              "          await google.colab.output.renderOutput(dataTable, element);\n",
              "          const docLink = document.createElement('div');\n",
              "          docLink.innerHTML = docLinkHtml;\n",
              "          element.appendChild(docLink);\n",
              "        }\n",
              "      </script>\n",
              "    </div>\n",
              "  </div>\n",
              "  "
            ]
          },
          "metadata": {},
          "execution_count": 7
        }
      ],
      "source": [
        "df.head()"
      ]
    },
    {
      "cell_type": "code",
      "execution_count": 8,
      "id": "62bc4d8b-48fc-4f89-868e-de03e4fa4c90",
      "metadata": {
        "colab": {
          "base_uri": "https://localhost:8080/"
        },
        "id": "62bc4d8b-48fc-4f89-868e-de03e4fa4c90",
        "outputId": "df1d0073-7697-4bef-a947-5ba243de681a"
      },
      "outputs": [
        {
          "output_type": "execute_result",
          "data": {
            "text/plain": [
              "array([2, 4])"
            ]
          },
          "metadata": {},
          "execution_count": 8
        }
      ],
      "source": [
        "## Let's see what are the classes\n",
        "df['Class'].unique()"
      ]
    },
    {
      "cell_type": "markdown",
      "id": "b70a209f-387b-445d-93a2-bd195f9082ed",
      "metadata": {
        "id": "b70a209f-387b-445d-93a2-bd195f9082ed"
      },
      "source": [
        "2 : Non cancerous\n",
        "4 : Cancerous\n",
        "\n",
        "We are mapping 2 with 0(non cancerous) and 4 with 1(cancerous)"
      ]
    },
    {
      "cell_type": "code",
      "execution_count": 9,
      "id": "2975c450-abc9-485a-a9c9-5730665fddf2",
      "metadata": {
        "id": "2975c450-abc9-485a-a9c9-5730665fddf2"
      },
      "outputs": [],
      "source": [
        "df['Class'] = df['Class'].map({2:0,4:1})"
      ]
    },
    {
      "cell_type": "code",
      "execution_count": 10,
      "id": "IXeL35f1tsDd",
      "metadata": {
        "id": "IXeL35f1tsDd"
      },
      "outputs": [],
      "source": [
        "class_names = ['non-cancerous','cancerous']"
      ]
    },
    {
      "cell_type": "code",
      "execution_count": 11,
      "id": "0dc60ad6-7a36-428d-9eff-8530dc2c54cf",
      "metadata": {
        "colab": {
          "base_uri": "https://localhost:8080/",
          "height": 358
        },
        "id": "0dc60ad6-7a36-428d-9eff-8530dc2c54cf",
        "outputId": "6fbc4eb1-3572-40f7-9918-a7713fb2eb73"
      },
      "outputs": [
        {
          "output_type": "stream",
          "name": "stderr",
          "text": [
            "/usr/local/lib/python3.7/dist-packages/seaborn/_decorators.py:43: FutureWarning: Pass the following variable as a keyword arg: x. From version 0.12, the only valid positional argument will be `data`, and passing other arguments without an explicit keyword will result in an error or misinterpretation.\n",
            "  FutureWarning\n"
          ]
        },
        {
          "output_type": "execute_result",
          "data": {
            "text/plain": [
              "<matplotlib.axes._subplots.AxesSubplot at 0x7fea76cfc8d0>"
            ]
          },
          "metadata": {},
          "execution_count": 11
        },
        {
          "output_type": "display_data",
          "data": {
            "text/plain": [
              "<Figure size 432x288 with 1 Axes>"
            ],
            "image/png": "[encoded data removed]"
          },
          "metadata": {
            "needs_background": "light"
          }
        }
      ],
      "source": [
        "## Total counts of these classes \n",
        "sns.countplot(df['Class'])"
      ]
    },
    {
      "cell_type": "markdown",
      "id": "0cb183c1-e46e-40b6-8055-f0b7d672e893",
      "metadata": {
        "id": "0cb183c1-e46e-40b6-8055-f0b7d672e893"
      },
      "source": [
        "These is an imbalance dataset"
      ]
    },
    {
      "cell_type": "code",
      "execution_count": 12,
      "id": "ea350ebb-15c9-40c5-9b15-3cd919468815",
      "metadata": {
        "id": "ea350ebb-15c9-40c5-9b15-3cd919468815"
      },
      "outputs": [],
      "source": [
        "## Dropping the sample code number\n",
        "df.drop('Sample code number',axis=1,inplace=True)"
      ]
    },
    {
      "cell_type": "markdown",
      "id": "2f10ff87-a172-45b3-bc6f-fae5bd5061df",
      "metadata": {
        "id": "2f10ff87-a172-45b3-bc6f-fae5bd5061df"
      },
      "source": [
        "## Splitting the dataset into Train and test set"
      ]
    },
    {
      "cell_type": "code",
      "execution_count": 13,
      "id": "9ff8c274-edf5-4611-b07f-0a3d77624050",
      "metadata": {
        "id": "9ff8c274-edf5-4611-b07f-0a3d77624050"
      },
      "outputs": [],
      "source": [
        "x_train,x_test,y_train,y_test = train_test_split(df.drop('Class',axis=1),df['Class'],test_size=0.2,random_state=42)"
      ]
    },
    {
      "cell_type": "code",
      "execution_count": 14,
      "id": "JVe9cmIqpn7r",
      "metadata": {
        "id": "JVe9cmIqpn7r"
      },
      "outputs": [],
      "source": [
        "x_train = x_train.to_numpy()\n",
        "x_test = x_test.to_numpy()\n",
        "y_train = y_train.to_numpy()\n",
        "y_test = y_test.to_numpy()"
      ]
    },
    {
      "cell_type": "code",
      "execution_count": 15,
      "id": "82b97b66-c4f3-4e46-b1fe-ac5df398d8ac",
      "metadata": {
        "colab": {
          "base_uri": "https://localhost:8080/"
        },
        "id": "82b97b66-c4f3-4e46-b1fe-ac5df398d8ac",
        "outputId": "fac65ca1-abf3-42cd-a793-b5c600726ff7"
      },
      "outputs": [
        {
          "output_type": "stream",
          "name": "stdout",
          "text": [
            "Shape of x train :  (546, 9)\n",
            "Shape of x test :  (137, 9)\n",
            "Shape of y train :  (546,)\n",
            "Shape of y test :  (137,)\n"
          ]
        }
      ],
      "source": [
        "print('Shape of x train : ', x_train.shape)\n",
        "print('Shape of x test : ', x_test.shape)\n",
        "print('Shape of y train : ', y_train.shape)\n",
        "print('Shape of y test : ', y_test.shape)"
      ]
    },
    {
      "cell_type": "markdown",
      "id": "87eqgLlsjr04",
      "metadata": {
        "id": "87eqgLlsjr04"
      },
      "source": [
        "## Models"
      ]
    },
    {
      "cell_type": "code",
      "execution_count": 16,
      "id": "HzlhQdeZuOFq",
      "metadata": {
        "id": "HzlhQdeZuOFq"
      },
      "outputs": [],
      "source": [
        "def metrics(y_true,y_pred,f1_scores_list=None):\n",
        "  print('f1 score :',f1_score(y_true,y_pred))\n",
        "  print()\n",
        "  print('accuracy :',accuracy_score(y_true,y_pred))\n",
        "  print()\n",
        "  print('Classification Report--')\n",
        "  print(classification_report(y_true,y_pred,target_names=class_names))\n",
        "  print()\n",
        "  print('Confussion matrix--')\n",
        "  print(confusion_matrix(y_true,y_pred))\n",
        "  print()\n",
        "  if f1_scores_list is not None:\n",
        "    print('Minimum f1 score[TRAINING] :',min(f1_scores_list))\n",
        "    print('Maximum f1 score[TRAINING] :',max(f1_scores_list))\n",
        "    print('Average f1 score[TRAINING] :',np.mean(f1_scores_list))\n",
        "\n"
      ]
    },
    {
      "cell_type": "markdown",
      "id": "jQBH1bdRmgDT",
      "metadata": {
        "id": "jQBH1bdRmgDT"
      },
      "source": [
        "### Naive Bias"
      ]
    },
    {
      "cell_type": "code",
      "execution_count": 17,
      "id": "WiwQbjiymiUw",
      "metadata": {
        "id": "WiwQbjiymiUw",
        "colab": {
          "base_uri": "https://localhost:8080/"
        },
        "outputId": "ed79223e-f25e-45fc-c34f-59445523d18a"
      },
      "outputs": [
        {
          "output_type": "execute_result",
          "data": {
            "text/plain": [
              "GaussianNB()"
            ]
          },
          "metadata": {},
          "execution_count": 17
        }
      ],
      "source": [
        "from sklearn.naive_bayes import GaussianNB\n",
        "nb = GaussianNB()\n",
        "nb.fit(x_train,y_train)"
      ]
    },
    {
      "cell_type": "code",
      "execution_count": 18,
      "id": "bAYY-o7_qUcX",
      "metadata": {
        "id": "bAYY-o7_qUcX"
      },
      "outputs": [],
      "source": [
        "y_pred = nb.predict(x_test)"
      ]
    },
    {
      "cell_type": "code",
      "execution_count": 19,
      "id": "-VAXG5wyviHy",
      "metadata": {
        "colab": {
          "base_uri": "https://localhost:8080/"
        },
        "id": "-VAXG5wyviHy",
        "outputId": "ff9db438-27b2-4d7d-c42d-5d46b02a1bdf"
      },
      "outputs": [
        {
          "output_type": "stream",
          "name": "stdout",
          "text": [
            "f1 score : 0.9482758620689655\n",
            "\n",
            "accuracy : 0.9562043795620438\n",
            "\n",
            "Classification Report--\n",
            "               precision    recall  f1-score   support\n",
            "\n",
            "non-cancerous       0.96      0.96      0.96        79\n",
            "    cancerous       0.95      0.95      0.95        58\n",
            "\n",
            "     accuracy                           0.96       137\n",
            "    macro avg       0.96      0.96      0.96       137\n",
            " weighted avg       0.96      0.96      0.96       137\n",
            "\n",
            "\n",
            "Confussion matrix--\n",
            "[[76  3]\n",
            " [ 3 55]]\n",
            "\n"
          ]
        }
      ],
      "source": [
        "metrics(y_test,y_pred)"
      ]
    },
    {
      "cell_type": "markdown",
      "id": "RztTOiF0sbgV",
      "metadata": {
        "id": "RztTOiF0sbgV"
      },
      "source": [
        "### Ridge classifier"
      ]
    },
    {
      "cell_type": "code",
      "execution_count": 21,
      "id": "3F2y7vm2sebX",
      "metadata": {
        "id": "3F2y7vm2sebX",
        "colab": {
          "base_uri": "https://localhost:8080/"
        },
        "outputId": "92010095-ef7b-4fcb-9294-dc033fe93a8b"
      },
      "outputs": [
        {
          "output_type": "execute_result",
          "data": {
            "text/plain": [
              "RidgeClassifier(alpha=1)"
            ]
          },
          "metadata": {},
          "execution_count": 21
        }
      ],
      "source": [
        "from sklearn.linear_model import RidgeClassifier\n",
        "rc = RidgeClassifier(alpha=1)\n",
        "rc.fit(x_train,y_train)"
      ]
    },
    {
      "cell_type": "code",
      "execution_count": 22,
      "id": "2Ly-pD8Os504",
      "metadata": {
        "id": "2Ly-pD8Os504"
      },
      "outputs": [],
      "source": [
        "y_pred = rc.predict(x_test)"
      ]
    },
    {
      "cell_type": "code",
      "execution_count": 23,
      "id": "Ox-8xZETtS_2",
      "metadata": {
        "colab": {
          "base_uri": "https://localhost:8080/"
        },
        "id": "Ox-8xZETtS_2",
        "outputId": "0668a8be-704b-4c70-be22-a01009db7679"
      },
      "outputs": [
        {
          "output_type": "stream",
          "name": "stdout",
          "text": [
            "f1 score : 0.9174311926605505\n",
            "\n",
            "accuracy : 0.9343065693430657\n",
            "\n",
            "Classification Report--\n",
            "               precision    recall  f1-score   support\n",
            "\n",
            "non-cancerous       0.91      0.99      0.95        79\n",
            "    cancerous       0.98      0.86      0.92        58\n",
            "\n",
            "     accuracy                           0.93       137\n",
            "    macro avg       0.94      0.92      0.93       137\n",
            " weighted avg       0.94      0.93      0.93       137\n",
            "\n",
            "\n",
            "Confussion matrix--\n",
            "[[78  1]\n",
            " [ 8 50]]\n",
            "\n"
          ]
        }
      ],
      "source": [
        "metrics(y_test,y_pred)"
      ]
    },
    {
      "cell_type": "markdown",
      "id": "HBW_v7J5ndjI",
      "metadata": {
        "id": "HBW_v7J5ndjI"
      },
      "source": [
        "### Random forest classifier"
      ]
    },
    {
      "cell_type": "code",
      "execution_count": 24,
      "id": "O3S3rNFKpOYD",
      "metadata": {
        "id": "O3S3rNFKpOYD",
        "colab": {
          "base_uri": "https://localhost:8080/"
        },
        "outputId": "ce08fab3-a888-40db-c9e9-625e7399baa8"
      },
      "outputs": [
        {
          "output_type": "execute_result",
          "data": {
            "text/plain": [
              "RandomForestClassifier(criterion='entropy')"
            ]
          },
          "metadata": {},
          "execution_count": 24
        }
      ],
      "source": [
        "from sklearn.ensemble import RandomForestClassifier\n",
        "rfc = RandomForestClassifier(n_estimators=100, criterion=\"entropy\")\n",
        "rfc.fit(x_train,y_train)"
      ]
    },
    {
      "cell_type": "code",
      "execution_count": 25,
      "id": "sMhfWSd_pVIr",
      "metadata": {
        "id": "sMhfWSd_pVIr"
      },
      "outputs": [],
      "source": [
        "y_pred = rfc.predict(x_test)"
      ]
    },
    {
      "cell_type": "code",
      "execution_count": 26,
      "id": "DzmFf5-8wjP0",
      "metadata": {
        "colab": {
          "base_uri": "https://localhost:8080/"
        },
        "id": "DzmFf5-8wjP0",
        "outputId": "5b9b7f40-051b-4930-f334-0eaf26606513"
      },
      "outputs": [
        {
          "output_type": "stream",
          "name": "stdout",
          "text": [
            "f1 score : 0.9464285714285714\n",
            "\n",
            "accuracy : 0.9562043795620438\n",
            "\n",
            "Classification Report--\n",
            "               precision    recall  f1-score   support\n",
            "\n",
            "non-cancerous       0.94      0.99      0.96        79\n",
            "    cancerous       0.98      0.91      0.95        58\n",
            "\n",
            "     accuracy                           0.96       137\n",
            "    macro avg       0.96      0.95      0.95       137\n",
            " weighted avg       0.96      0.96      0.96       137\n",
            "\n",
            "\n",
            "Confussion matrix--\n",
            "[[78  1]\n",
            " [ 5 53]]\n",
            "\n"
          ]
        }
      ],
      "source": [
        "metrics(y_test,y_pred)"
      ]
    },
    {
      "cell_type": "markdown",
      "id": "0wAreq80woad",
      "metadata": {
        "id": "0wAreq80woad"
      },
      "source": [
        "### Logistic Regression"
      ]
    },
    {
      "cell_type": "code",
      "execution_count": 27,
      "id": "eUTLUYGpxHlA",
      "metadata": {
        "id": "eUTLUYGpxHlA",
        "colab": {
          "base_uri": "https://localhost:8080/"
        },
        "outputId": "4ab96237-d3dc-4e59-d93b-ea89279c1cf0"
      },
      "outputs": [
        {
          "output_type": "execute_result",
          "data": {
            "text/plain": [
              "LogisticRegression()"
            ]
          },
          "metadata": {},
          "execution_count": 27
        }
      ],
      "source": [
        "from sklearn.linear_model import LogisticRegression\n",
        "lr = LogisticRegression()\n",
        "lr.fit(x_train,y_train)"
      ]
    },
    {
      "cell_type": "code",
      "execution_count": 28,
      "id": "RJ1lJuEpxtY1",
      "metadata": {
        "id": "RJ1lJuEpxtY1"
      },
      "outputs": [],
      "source": [
        "y_pred = lr.predict(x_test)"
      ]
    },
    {
      "cell_type": "code",
      "execution_count": 29,
      "id": "IZ11BtzYx16Y",
      "metadata": {
        "colab": {
          "base_uri": "https://localhost:8080/"
        },
        "id": "IZ11BtzYx16Y",
        "outputId": "18f29fd1-139a-424d-f5ac-ec2d6aecbe3b"
      },
      "outputs": [
        {
          "output_type": "stream",
          "name": "stdout",
          "text": [
            "f1 score : 0.9464285714285714\n",
            "\n",
            "accuracy : 0.9562043795620438\n",
            "\n",
            "Classification Report--\n",
            "               precision    recall  f1-score   support\n",
            "\n",
            "non-cancerous       0.94      0.99      0.96        79\n",
            "    cancerous       0.98      0.91      0.95        58\n",
            "\n",
            "     accuracy                           0.96       137\n",
            "    macro avg       0.96      0.95      0.95       137\n",
            " weighted avg       0.96      0.96      0.96       137\n",
            "\n",
            "\n",
            "Confussion matrix--\n",
            "[[78  1]\n",
            " [ 5 53]]\n",
            "\n"
          ]
        }
      ],
      "source": [
        "metrics(y_test,y_pred)"
      ]
    },
    {
      "cell_type": "markdown",
      "id": "Dim3uGy9x6pS",
      "metadata": {
        "id": "Dim3uGy9x6pS"
      },
      "source": [
        "### k nearest neighbours"
      ]
    },
    {
      "cell_type": "code",
      "execution_count": 30,
      "id": "Jal5iSqUyKsA",
      "metadata": {
        "id": "Jal5iSqUyKsA",
        "colab": {
          "base_uri": "https://localhost:8080/"
        },
        "outputId": "3bab474c-2204-4af0-e49a-838c4eaaf8e1"
      },
      "outputs": [
        {
          "output_type": "execute_result",
          "data": {
            "text/plain": [
              "KNeighborsClassifier(n_neighbors=3)"
            ]
          },
          "metadata": {},
          "execution_count": 30
        }
      ],
      "source": [
        "from sklearn.neighbors import KNeighborsClassifier\n",
        "neigh = KNeighborsClassifier(n_neighbors=3)\n",
        "neigh.fit(x_train,y_train)"
      ]
    },
    {
      "cell_type": "code",
      "execution_count": 31,
      "id": "qH6uwyD9ydJ0",
      "metadata": {
        "id": "qH6uwyD9ydJ0"
      },
      "outputs": [],
      "source": [
        "y_pred = neigh.predict(x_test)"
      ]
    },
    {
      "cell_type": "code",
      "execution_count": 32,
      "id": "6dNAN4N4yhNr",
      "metadata": {
        "colab": {
          "base_uri": "https://localhost:8080/"
        },
        "id": "6dNAN4N4yhNr",
        "outputId": "8eec68e8-4b26-4898-c189-156b30463771"
      },
      "outputs": [
        {
          "output_type": "stream",
          "name": "stdout",
          "text": [
            "f1 score : 0.9369369369369369\n",
            "\n",
            "accuracy : 0.948905109489051\n",
            "\n",
            "Classification Report--\n",
            "               precision    recall  f1-score   support\n",
            "\n",
            "non-cancerous       0.93      0.99      0.96        79\n",
            "    cancerous       0.98      0.90      0.94        58\n",
            "\n",
            "     accuracy                           0.95       137\n",
            "    macro avg       0.95      0.94      0.95       137\n",
            " weighted avg       0.95      0.95      0.95       137\n",
            "\n",
            "\n",
            "Confussion matrix--\n",
            "[[78  1]\n",
            " [ 6 52]]\n",
            "\n"
          ]
        }
      ],
      "source": [
        "metrics(y_test,y_pred)"
      ]
    },
    {
      "cell_type": "markdown",
      "id": "6_qVizHnylij",
      "metadata": {
        "id": "6_qVizHnylij"
      },
      "source": [
        "### Feed-forward-neural-network"
      ]
    },
    {
      "cell_type": "code",
      "execution_count": 33,
      "id": "bA7RjeHX0LOz",
      "metadata": {
        "id": "bA7RjeHX0LOz"
      },
      "outputs": [],
      "source": [
        "import tensorflow as tf\n",
        "from tensorflow.keras.layers import Dense"
      ]
    },
    {
      "cell_type": "code",
      "execution_count": 34,
      "id": "qiWVLR-f0SNN",
      "metadata": {
        "colab": {
          "base_uri": "https://localhost:8080/"
        },
        "id": "qiWVLR-f0SNN",
        "outputId": "0290919d-3800-4467-aa8c-d12bae998030"
      },
      "outputs": [
        {
          "output_type": "stream",
          "name": "stdout",
          "text": [
            "Epoch 1/50\n",
            "18/18 [==============================] - 1s 30ms/step - loss: 0.6661 - accuracy: 0.7308 - val_loss: 0.6484 - val_accuracy: 0.7007\n",
            "Epoch 2/50\n",
            "18/18 [==============================] - 0s 5ms/step - loss: 0.6449 - accuracy: 0.6941 - val_loss: 0.6238 - val_accuracy: 0.7007\n",
            "Epoch 3/50\n",
            "18/18 [==============================] - 0s 4ms/step - loss: 0.6266 - accuracy: 0.6978 - val_loss: 0.6061 - val_accuracy: 0.7080\n",
            "Epoch 4/50\n",
            "18/18 [==============================] - 0s 3ms/step - loss: 0.6117 - accuracy: 0.6923 - val_loss: 0.5923 - val_accuracy: 0.7007\n",
            "Epoch 5/50\n",
            "18/18 [==============================] - 0s 4ms/step - loss: 0.5997 - accuracy: 0.7088 - val_loss: 0.5805 - val_accuracy: 0.7226\n",
            "Epoch 6/50\n",
            "18/18 [==============================] - 0s 3ms/step - loss: 0.5882 - accuracy: 0.7253 - val_loss: 0.5697 - val_accuracy: 0.7518\n",
            "Epoch 7/50\n",
            "18/18 [==============================] - 0s 4ms/step - loss: 0.5771 - accuracy: 0.7582 - val_loss: 0.5600 - val_accuracy: 0.7664\n",
            "Epoch 8/50\n",
            "18/18 [==============================] - 0s 4ms/step - loss: 0.5668 - accuracy: 0.7674 - val_loss: 0.5502 - val_accuracy: 0.8029\n",
            "Epoch 9/50\n",
            "18/18 [==============================] - 0s 4ms/step - loss: 0.5563 - accuracy: 0.8132 - val_loss: 0.5414 - val_accuracy: 0.8248\n",
            "Epoch 10/50\n",
            "18/18 [==============================] - 0s 4ms/step - loss: 0.5473 - accuracy: 0.8352 - val_loss: 0.5325 - val_accuracy: 0.8321\n",
            "Epoch 11/50\n",
            "18/18 [==============================] - 0s 3ms/step - loss: 0.5379 - accuracy: 0.8388 - val_loss: 0.5232 - val_accuracy: 0.8321\n",
            "Epoch 12/50\n",
            "18/18 [==============================] - 0s 3ms/step - loss: 0.5291 - accuracy: 0.8535 - val_loss: 0.5153 - val_accuracy: 0.8321\n",
            "Epoch 13/50\n",
            "18/18 [==============================] - 0s 3ms/step - loss: 0.5207 - accuracy: 0.8608 - val_loss: 0.5075 - val_accuracy: 0.8394\n",
            "Epoch 14/50\n",
            "18/18 [==============================] - 0s 3ms/step - loss: 0.5136 - accuracy: 0.8993 - val_loss: 0.5029 - val_accuracy: 0.8978\n",
            "Epoch 15/50\n",
            "18/18 [==============================] - 0s 3ms/step - loss: 0.5066 - accuracy: 0.9121 - val_loss: 0.4942 - val_accuracy: 0.8905\n",
            "Epoch 16/50\n",
            "18/18 [==============================] - 0s 3ms/step - loss: 0.4985 - accuracy: 0.9084 - val_loss: 0.4870 - val_accuracy: 0.8905\n",
            "Epoch 17/50\n",
            "18/18 [==============================] - 0s 3ms/step - loss: 0.4912 - accuracy: 0.9103 - val_loss: 0.4805 - val_accuracy: 0.8905\n",
            "Epoch 18/50\n",
            "18/18 [==============================] - 0s 3ms/step - loss: 0.4847 - accuracy: 0.9121 - val_loss: 0.4743 - val_accuracy: 0.8978\n",
            "Epoch 19/50\n",
            "18/18 [==============================] - 0s 4ms/step - loss: 0.4781 - accuracy: 0.9139 - val_loss: 0.4687 - val_accuracy: 0.8978\n",
            "Epoch 20/50\n",
            "18/18 [==============================] - 0s 3ms/step - loss: 0.4715 - accuracy: 0.9158 - val_loss: 0.4629 - val_accuracy: 0.8978\n",
            "Epoch 21/50\n",
            "18/18 [==============================] - 0s 3ms/step - loss: 0.4650 - accuracy: 0.9212 - val_loss: 0.4571 - val_accuracy: 0.8978\n",
            "Epoch 22/50\n",
            "18/18 [==============================] - 0s 3ms/step - loss: 0.4592 - accuracy: 0.9249 - val_loss: 0.4506 - val_accuracy: 0.9124\n",
            "Epoch 23/50\n",
            "18/18 [==============================] - 0s 4ms/step - loss: 0.4527 - accuracy: 0.9322 - val_loss: 0.4455 - val_accuracy: 0.9124\n",
            "Epoch 24/50\n",
            "18/18 [==============================] - 0s 3ms/step - loss: 0.4469 - accuracy: 0.9322 - val_loss: 0.4393 - val_accuracy: 0.9124\n",
            "Epoch 25/50\n",
            "18/18 [==============================] - 0s 4ms/step - loss: 0.4413 - accuracy: 0.9322 - val_loss: 0.4339 - val_accuracy: 0.9124\n",
            "Epoch 26/50\n",
            "18/18 [==============================] - 0s 4ms/step - loss: 0.4360 - accuracy: 0.9341 - val_loss: 0.4289 - val_accuracy: 0.9124\n",
            "Epoch 27/50\n",
            "18/18 [==============================] - 0s 4ms/step - loss: 0.4305 - accuracy: 0.9396 - val_loss: 0.4239 - val_accuracy: 0.9124\n",
            "Epoch 28/50\n",
            "18/18 [==============================] - 0s 4ms/step - loss: 0.4251 - accuracy: 0.9414 - val_loss: 0.4189 - val_accuracy: 0.9124\n",
            "Epoch 29/50\n",
            "18/18 [==============================] - 0s 5ms/step - loss: 0.4204 - accuracy: 0.9432 - val_loss: 0.4139 - val_accuracy: 0.9197\n",
            "Epoch 30/50\n",
            "18/18 [==============================] - 0s 4ms/step - loss: 0.4152 - accuracy: 0.9432 - val_loss: 0.4088 - val_accuracy: 0.9197\n",
            "Epoch 31/50\n",
            "18/18 [==============================] - 0s 4ms/step - loss: 0.4107 - accuracy: 0.9432 - val_loss: 0.4044 - val_accuracy: 0.9197\n",
            "Epoch 32/50\n",
            "18/18 [==============================] - 0s 5ms/step - loss: 0.4063 - accuracy: 0.9432 - val_loss: 0.4004 - val_accuracy: 0.9197\n",
            "Epoch 33/50\n",
            "18/18 [==============================] - 0s 4ms/step - loss: 0.4018 - accuracy: 0.9432 - val_loss: 0.3963 - val_accuracy: 0.9197\n",
            "Epoch 34/50\n",
            "18/18 [==============================] - 0s 4ms/step - loss: 0.3973 - accuracy: 0.9451 - val_loss: 0.3926 - val_accuracy: 0.9124\n",
            "Epoch 35/50\n",
            "18/18 [==============================] - 0s 4ms/step - loss: 0.3931 - accuracy: 0.9469 - val_loss: 0.3878 - val_accuracy: 0.9197\n",
            "Epoch 36/50\n",
            "18/18 [==============================] - 0s 5ms/step - loss: 0.3884 - accuracy: 0.9487 - val_loss: 0.3841 - val_accuracy: 0.9197\n",
            "Epoch 37/50\n",
            "18/18 [==============================] - 0s 4ms/step - loss: 0.3844 - accuracy: 0.9505 - val_loss: 0.3801 - val_accuracy: 0.9197\n",
            "Epoch 38/50\n",
            "18/18 [==============================] - 0s 3ms/step - loss: 0.3804 - accuracy: 0.9542 - val_loss: 0.3802 - val_accuracy: 0.9124\n",
            "Epoch 39/50\n",
            "18/18 [==============================] - 0s 4ms/step - loss: 0.3767 - accuracy: 0.9560 - val_loss: 0.3742 - val_accuracy: 0.9124\n",
            "Epoch 40/50\n",
            "18/18 [==============================] - 0s 3ms/step - loss: 0.3726 - accuracy: 0.9542 - val_loss: 0.3702 - val_accuracy: 0.9124\n",
            "Epoch 41/50\n",
            "18/18 [==============================] - 0s 3ms/step - loss: 0.3690 - accuracy: 0.9524 - val_loss: 0.3664 - val_accuracy: 0.9197\n",
            "Epoch 42/50\n",
            "18/18 [==============================] - 0s 3ms/step - loss: 0.3658 - accuracy: 0.9524 - val_loss: 0.3628 - val_accuracy: 0.9197\n",
            "Epoch 43/50\n",
            "18/18 [==============================] - 0s 4ms/step - loss: 0.3615 - accuracy: 0.9560 - val_loss: 0.3601 - val_accuracy: 0.9124\n",
            "Epoch 44/50\n",
            "18/18 [==============================] - 0s 3ms/step - loss: 0.3578 - accuracy: 0.9579 - val_loss: 0.3571 - val_accuracy: 0.9197\n",
            "Epoch 45/50\n",
            "18/18 [==============================] - 0s 4ms/step - loss: 0.3541 - accuracy: 0.9597 - val_loss: 0.3539 - val_accuracy: 0.9197\n",
            "Epoch 46/50\n",
            "18/18 [==============================] - 0s 4ms/step - loss: 0.3504 - accuracy: 0.9579 - val_loss: 0.3502 - val_accuracy: 0.9197\n",
            "Epoch 47/50\n",
            "18/18 [==============================] - 0s 3ms/step - loss: 0.3469 - accuracy: 0.9579 - val_loss: 0.3469 - val_accuracy: 0.9197\n",
            "Epoch 48/50\n",
            "18/18 [==============================] - 0s 4ms/step - loss: 0.3434 - accuracy: 0.9579 - val_loss: 0.3431 - val_accuracy: 0.9197\n",
            "Epoch 49/50\n",
            "18/18 [==============================] - 0s 3ms/step - loss: 0.3400 - accuracy: 0.9579 - val_loss: 0.3400 - val_accuracy: 0.9197\n",
            "Epoch 50/50\n",
            "18/18 [==============================] - 0s 3ms/step - loss: 0.3365 - accuracy: 0.9597 - val_loss: 0.3374 - val_accuracy: 0.9197\n"
          ]
        }
      ],
      "source": [
        "tf.random.set_seed(200)\n",
        "\n",
        "#model\n",
        "\n",
        "fnn = tf.keras.Sequential()\n",
        "\n",
        "## adding layers\n",
        "\n",
        "fnn.add(tf.keras.layers.Dense(4,activation='relu'))\n",
        "fnn.add(tf.keras.layers.Dense(2,activation='relu'))\n",
        "fnn.add(tf.keras.layers.Dense(1,activation='sigmoid'))\n",
        "             \n",
        "#compile\n",
        "fnn.compile(\n",
        "    loss = tf.keras.losses.binary_crossentropy,\n",
        "    optimizer = tf.keras.optimizers.Adam(),\n",
        "    metrics =['accuracy'])\n",
        "             \n",
        "#fitting data\n",
        "history = fnn.fit(x_train,\n",
        "            y_train,\n",
        "            validation_data=(x_test,y_test),\n",
        "            epochs=50)\n"
      ]
    },
    {
      "cell_type": "code",
      "execution_count": 37,
      "id": "c9LUvQJv0-M3",
      "metadata": {
        "colab": {
          "base_uri": "https://localhost:8080/",
          "height": 304
        },
        "id": "c9LUvQJv0-M3",
        "outputId": "e2138ac3-0dbb-404e-b667-00095d2b7b16"
      },
      "outputs": [
        {
          "output_type": "execute_result",
          "data": {
            "text/plain": [
              "<matplotlib.axes._subplots.AxesSubplot at 0x7fea062f20d0>"
            ]
          },
          "metadata": {},
          "execution_count": 37
        },
        {
          "output_type": "display_data",
          "data": {
            "text/plain": [
              "<Figure size 864x720 with 0 Axes>"
            ]
          },
          "metadata": {}
        },
        {
          "output_type": "display_data",
          "data": {
            "text/plain": [
              "<Figure size 432x288 with 1 Axes>"
            ],
            "image/png": "[encoded data removed]"
          },
          "metadata": {
            "needs_background": "light"
          }
        }
      ],
      "source": [
        "plt.figure(figsize=(12,10))\n",
        "pd.DataFrame(history.history).plot()\n"
      ]
    },
    {
      "cell_type": "code",
      "execution_count": 38,
      "id": "lfzHpp-y4GOQ",
      "metadata": {
        "id": "lfzHpp-y4GOQ"
      },
      "outputs": [],
      "source": [
        "y_pred = fnn.predict(x_test)\n",
        "y_pred = tf.round(y_pred).numpy()"
      ]
    },
    {
      "cell_type": "code",
      "execution_count": 39,
      "id": "5O3n8rvQ58yH",
      "metadata": {
        "colab": {
          "base_uri": "https://localhost:8080/"
        },
        "id": "5O3n8rvQ58yH",
        "outputId": "70c0846a-d3a9-41b0-b614-8484d5c5efab"
      },
      "outputs": [
        {
          "output_type": "stream",
          "name": "stdout",
          "text": [
            "f1 score : 0.9075630252100839\n",
            "\n",
            "accuracy : 0.9197080291970803\n",
            "\n",
            "Classification Report--\n",
            "               precision    recall  f1-score   support\n",
            "\n",
            "non-cancerous       0.95      0.91      0.93        79\n",
            "    cancerous       0.89      0.93      0.91        58\n",
            "\n",
            "     accuracy                           0.92       137\n",
            "    macro avg       0.92      0.92      0.92       137\n",
            " weighted avg       0.92      0.92      0.92       137\n",
            "\n",
            "\n",
            "Confussion matrix--\n",
            "[[72  7]\n",
            " [ 4 54]]\n",
            "\n"
          ]
        }
      ],
      "source": [
        "metrics(y_test,y_pred)"
      ]
    },
    {
      "cell_type": "code",
      "execution_count": null,
      "id": "0U_MT-fH6BP8",
      "metadata": {
        "id": "0U_MT-fH6BP8"
      },
      "outputs": [],
      "source": [
        ""
      ]
    }
  ],
  "metadata": {
    "colab": {
      "collapsed_sections": [
        "7008492c-9648-4a8d-81ec-33404ff684e3",
        "01b6b267-0515-4135-9bdc-fb1d1e622961",
        "70ce000f-dfbd-4de6-ae1b-04ffe9ed46c8",
        "2f10ff87-a172-45b3-bc6f-fae5bd5061df",
        "71a56074-0baa-4c48-bdb8-526377d6e82b",
        "e996e6cf-b8f8-4b78-892c-e1e23059bc25",
        "4dde51e6-7c85-4379-945d-3d518a265f33",
        "87eqgLlsjr04",
        "jQBH1bdRmgDT",
        "RztTOiF0sbgV",
        "HBW_v7J5ndjI",
        "0wAreq80woad",
        "Dim3uGy9x6pS",
        "6_qVizHnylij"
      ],
      "name": "Cancer_prediction_ksoc.ipynb",
      "provenance": []
    },
    "gpuClass": "standard",
    "kernelspec": {
      "display_name": "Python 3",
      "name": "python3"
    },
    "language_info": {
      "name": "python"
    }
  },
  "nbformat": 4,
  "nbformat_minor": 5
}